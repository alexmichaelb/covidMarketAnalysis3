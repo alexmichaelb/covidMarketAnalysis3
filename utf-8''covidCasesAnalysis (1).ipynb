{
  "cells": [
    {
      "metadata": {},
      "cell_type": "markdown",
      "source": "# Using COVID19API and Alpha Vantage Data to create a market analysis"
    },
    {
      "metadata": {
        "trusted": true
      },
      "cell_type": "code",
      "source": "#libraries used\n\nimport requests\nimport pandas as pd\nimport datetime",
      "execution_count": 1,
      "outputs": []
    },
    {
      "metadata": {
        "trusted": true
      },
      "cell_type": "code",
      "source": "##api link for get use\n##https://documenter.getpostman.com/view/10808728/SzS8rjbc?version=latest\n\n##api link for country codename\n##https://documenter.getpostman.com/view/10808728/SzS8rjbc?version=latest#7934d316-f751-4914-9909-39f1901caeb8\n\n##function for pulling new covid cases from the API\n\ndef newCasesPerDayFunc(country):\n#setting variables for requests\n    newCasesPerDay = []\n    #country = \"japan\" ##doesn't work for united-states, united-kingdom,\n    url = \"https://api.covid19api.com/country/\"+country+\"/status/confirmed\"\n\n    fromdate = \"2020-02-01T00:00:00Z\"\n    todate = \"2020-07-13T00:00:00Z\"\n    payload = {}\n    headers= {}\n    params = {\"from\":fromdate, \"to\":todate}\n\n    #response and json form of response\n    response = requests.request(\"GET\", url, headers=headers, data = payload, params=params)\n    dataParse = response.json()\n\n    def dailyCasesChange(tdayCases, ydayCases):\n        dailyChange = tdayCases - ydayCases\n        return dailyChange\n\n    #loop to find data we want\n    listLength = len(dataParse)\n    for x in range(0, listLength):\n        \n        #if statement: if not day 1 do the covid cases change calculation\n        if x > 0:\n            dailyCountryProfile = dataParse[x]\n            todaysCases = dailyCountryProfile['Cases']\n\n            ydayCountryProfile = dataParse[x-1]\n            ydayCases=ydayCountryProfile['Cases']\n\n            newCasesToday = dailyCasesChange(todaysCases, ydayCases)\n            newCasesPerDay.append(newCasesToday)\n\n    return(newCasesPerDay)",
      "execution_count": 2,
      "outputs": []
    },
    {
      "metadata": {
        "trusted": true
      },
      "cell_type": "code",
      "source": "startDate = '2020-02-01' #variable for start date of covid cases analysis\n\n#list of all countries daily case data\njapanNewCases = newCasesPerDayFunc(\"japan\")\nbrazilNewCases = newCasesPerDayFunc(\"brazil\")\nitalyNewCases = newCasesPerDayFunc(\"italy\")\nskNewCases = newCasesPerDayFunc(\"south-korea\")\n\n##Generates a list of all dates\ndatelist = pd.date_range(startDate, periods=len(japanNewCases)).tolist()",
      "execution_count": 3,
      "outputs": []
    },
    {
      "metadata": {
        "trusted": true
      },
      "cell_type": "code",
      "source": "newDateList = []\n\n#loop to change the date formats for table\nfor item in datelist:\n    #print(item)\n    #print(type(item))\n    newDateFormat = item.strftime(\"%Y-%m-%d\")\n    newDateItem = datetime.datetime.strptime(newDateFormat, '%Y-%m-%d').strftime('%d/%m/%Y')\n    newDateList.append(newDateItem)\nprint(newDateList)",
      "execution_count": 35,
      "outputs": [
        {
          "output_type": "stream",
          "text": "['01/02/2020', '02/02/2020', '03/02/2020', '04/02/2020', '05/02/2020', '06/02/2020', '07/02/2020', '08/02/2020', '09/02/2020', '10/02/2020', '11/02/2020', '12/02/2020', '13/02/2020', '14/02/2020', '15/02/2020', '16/02/2020', '17/02/2020', '18/02/2020', '19/02/2020', '20/02/2020', '21/02/2020', '22/02/2020', '23/02/2020', '24/02/2020', '25/02/2020', '26/02/2020', '27/02/2020', '28/02/2020', '29/02/2020', '01/03/2020', '02/03/2020', '03/03/2020', '04/03/2020', '05/03/2020', '06/03/2020', '07/03/2020', '08/03/2020', '09/03/2020', '10/03/2020', '11/03/2020', '12/03/2020', '13/03/2020', '14/03/2020', '15/03/2020', '16/03/2020', '17/03/2020', '18/03/2020', '19/03/2020', '20/03/2020', '21/03/2020', '22/03/2020', '23/03/2020', '24/03/2020', '25/03/2020', '26/03/2020', '27/03/2020', '28/03/2020', '29/03/2020', '30/03/2020', '31/03/2020', '01/04/2020', '02/04/2020', '03/04/2020', '04/04/2020', '05/04/2020', '06/04/2020', '07/04/2020', '08/04/2020', '09/04/2020', '10/04/2020', '11/04/2020', '12/04/2020', '13/04/2020', '14/04/2020', '15/04/2020', '16/04/2020', '17/04/2020', '18/04/2020', '19/04/2020', '20/04/2020', '21/04/2020', '22/04/2020', '23/04/2020', '24/04/2020', '25/04/2020', '26/04/2020', '27/04/2020', '28/04/2020', '29/04/2020', '30/04/2020', '01/05/2020', '02/05/2020', '03/05/2020', '04/05/2020', '05/05/2020', '06/05/2020', '07/05/2020', '08/05/2020', '09/05/2020', '10/05/2020', '11/05/2020', '12/05/2020', '13/05/2020', '14/05/2020', '15/05/2020', '16/05/2020', '17/05/2020', '18/05/2020', '19/05/2020', '20/05/2020', '21/05/2020', '22/05/2020', '23/05/2020', '24/05/2020', '25/05/2020', '26/05/2020', '27/05/2020', '28/05/2020', '29/05/2020', '30/05/2020', '31/05/2020', '01/06/2020', '02/06/2020', '03/06/2020', '04/06/2020', '05/06/2020', '06/06/2020', '07/06/2020', '08/06/2020', '09/06/2020', '10/06/2020', '11/06/2020', '12/06/2020', '13/06/2020', '14/06/2020', '15/06/2020', '16/06/2020', '17/06/2020', '18/06/2020', '19/06/2020', '20/06/2020', '21/06/2020', '22/06/2020', '23/06/2020', '24/06/2020', '25/06/2020', '26/06/2020', '27/06/2020', '28/06/2020', '29/06/2020', '30/06/2020', '01/07/2020', '02/07/2020', '03/07/2020', '04/07/2020', '05/07/2020', '06/07/2020', '07/07/2020', '08/07/2020', '09/07/2020', '10/07/2020', '11/07/2020', '12/07/2020']\n",
          "name": "stdout"
        }
      ]
    },
    {
      "metadata": {
        "trusted": true
      },
      "cell_type": "code",
      "source": "#Create DF based on a dict of lists\ncovidCasesDict = {'japanCases':japanNewCases, 'brazilCases': brazilNewCases,\n                  'italyCases':italyNewCases, 'skCases':skNewCases}\n\ncasesDF = pd.DataFrame(covidCasesDict, index = pd.to_datetime(newDateList))\n\ncasesDF.head()",
      "execution_count": 36,
      "outputs": [
        {
          "output_type": "execute_result",
          "execution_count": 36,
          "data": {
            "text/html": "<div>\n<style scoped>\n    .dataframe tbody tr th:only-of-type {\n        vertical-align: middle;\n    }\n\n    .dataframe tbody tr th {\n        vertical-align: top;\n    }\n\n    .dataframe thead th {\n        text-align: right;\n    }\n</style>\n<table border=\"1\" class=\"dataframe\">\n  <thead>\n    <tr style=\"text-align: right;\">\n      <th></th>\n      <th>japanCases</th>\n      <th>brazilCases</th>\n      <th>italyCases</th>\n      <th>skCases</th>\n    </tr>\n  </thead>\n  <tbody>\n    <tr>\n      <th>2020-01-02</th>\n      <td>0</td>\n      <td>0</td>\n      <td>0</td>\n      <td>3</td>\n    </tr>\n    <tr>\n      <th>2020-02-02</th>\n      <td>0</td>\n      <td>0</td>\n      <td>0</td>\n      <td>0</td>\n    </tr>\n    <tr>\n      <th>2020-03-02</th>\n      <td>2</td>\n      <td>0</td>\n      <td>0</td>\n      <td>1</td>\n    </tr>\n    <tr>\n      <th>2020-04-02</th>\n      <td>1</td>\n      <td>0</td>\n      <td>0</td>\n      <td>3</td>\n    </tr>\n    <tr>\n      <th>2020-05-02</th>\n      <td>0</td>\n      <td>0</td>\n      <td>0</td>\n      <td>4</td>\n    </tr>\n  </tbody>\n</table>\n</div>",
            "text/plain": "            japanCases  brazilCases  italyCases  skCases\n2020-01-02           0            0           0        3\n2020-02-02           0            0           0        0\n2020-03-02           2            0           0        1\n2020-04-02           1            0           0        3\n2020-05-02           0            0           0        4"
          },
          "metadata": {}
        }
      ]
    },
    {
      "metadata": {
        "trusted": true
      },
      "cell_type": "code",
      "source": "casesDF.tail()",
      "execution_count": 15,
      "outputs": [
        {
          "output_type": "execute_result",
          "execution_count": 15,
          "data": {
            "text/html": "<div>\n<style scoped>\n    .dataframe tbody tr th:only-of-type {\n        vertical-align: middle;\n    }\n\n    .dataframe tbody tr th {\n        vertical-align: top;\n    }\n\n    .dataframe thead th {\n        text-align: right;\n    }\n</style>\n<table border=\"1\" class=\"dataframe\">\n  <thead>\n    <tr style=\"text-align: right;\">\n      <th></th>\n      <th>japanCases</th>\n      <th>brazilCases</th>\n      <th>italyCases</th>\n      <th>skCases</th>\n    </tr>\n  </thead>\n  <tbody>\n    <tr>\n      <th>08/07/2020</th>\n      <td>356</td>\n      <td>42619</td>\n      <td>214</td>\n      <td>45</td>\n    </tr>\n    <tr>\n      <th>09/07/2020</th>\n      <td>427</td>\n      <td>45048</td>\n      <td>276</td>\n      <td>35</td>\n    </tr>\n    <tr>\n      <th>10/07/2020</th>\n      <td>386</td>\n      <td>39023</td>\n      <td>188</td>\n      <td>44</td>\n    </tr>\n    <tr>\n      <th>11/07/2020</th>\n      <td>411</td>\n      <td>24831</td>\n      <td>234</td>\n      <td>62</td>\n    </tr>\n    <tr>\n      <th>12/07/2020</th>\n      <td>284</td>\n      <td>20286</td>\n      <td>169</td>\n      <td>33</td>\n    </tr>\n  </tbody>\n</table>\n</div>",
            "text/plain": "            japanCases  brazilCases  italyCases  skCases\n08/07/2020         356        42619         214       45\n09/07/2020         427        45048         276       35\n10/07/2020         386        39023         188       44\n11/07/2020         411        24831         234       62\n12/07/2020         284        20286         169       33"
          },
          "metadata": {}
        }
      ]
    },
    {
      "metadata": {
        "trusted": true
      },
      "cell_type": "code",
      "source": "#Used for pulling the data\nimport urllib.request \nimport json\n#Used for formatting the data\nimport pandas as pd\n#Used for data visualisation\nimport matplotlib.pyplot as plt\nfrom matplotlib import style",
      "execution_count": 9,
      "outputs": [
        {
          "output_type": "stream",
          "text": "/home/nbuser/anaconda3_501/lib/python3.6/site-packages/matplotlib/font_manager.py:229: UserWarning: Matplotlib is building the font cache using fc-list. This may take a moment.\n  'Matplotlib is building the font cache using fc-list. '\n",
          "name": "stderr"
        }
      ]
    },
    {
      "metadata": {
        "trusted": true
      },
      "cell_type": "code",
      "source": "#Returns a pandaDF of the closing stock prices in the last x amount of days\ndef getPriceOfStock(companySymbol, numOfDays): \n    url = \"https://www.alphavantage.co/query?function=TIME_SERIES_DAILY&symbol=\"+companySymbol+\"&outputsize=full&apikey=Y11HUWNU7HM58RRL\"\n    json_obj = urllib.request.urlopen(url)\n    #Finds the data from the url\n    data = json.load(json_obj)\n    #Choosing the revelant key from the data dictionary\n    dates = data[\"Time Series (Daily)\"] \n    #Initializing lists to store the data\n    final_prices = [] \n    calendar = []\n    counter = 0\n    #For-loop used to run through every trading day \n    for day in dates: \n        counter += 1\n        #Limits the amount of data using the number of days wanted\n        if counter > numOfDays: \n            break\n        #Gets the stock's price - This will include Open, High, Low, Closed prices\n        prices = dates[day]\n        #Choosing the stock's closed price\n        priceNum = float(prices['4. close']) \n        final_prices.append(priceNum)\n        calendar.append(day)\n    #Dictionary containing the company and it's stock prices \n    final_prices.reverse()\n    calendar.reverse()\n    stockDict = {companySymbol : final_prices} #CHANGE\n    #Formatting the pulled data to a Panda DataFrame\n    df = pd.DataFrame(data = stockDict, index = pd.to_datetime(calendar))\n    return df",
      "execution_count": 10,
      "outputs": []
    },
    {
      "metadata": {
        "trusted": true
      },
      "cell_type": "code",
      "source": "#NOTE: Alpha Vantage only allows 5 API calls a minute, 500 a day -> Can only have an input size of list size 5\n#Function to format (multiple) stocks into a PandaDF and alligns the dates\ndef bundleStockPrices(arrayOfCompanySymbols, numOfDays):\n    largeTable = getPriceOfStock(arrayOfCompanySymbols[0], numOfDays) \n    del arrayOfCompanySymbols[0]\n    for symbol in arrayOfCompanySymbols:\n        smallTable = getPriceOfStock(symbol, numOfDays)\n        #Concatenating the tables together -> will provide the intersection of all the data -> will provide <= 200 day data values\n        #largeTable = pd.concat([largeTable, smallTable.reindex(largeTable.index)], axis = 1)\n        largeTable = pd.concat([largeTable, smallTable], axis = 1, join ='inner')\n    print(\"Any null data: \"+str(largeTable.isnull().values.any()))\n    print(largeTable.head())\n    print(\"...\")\n    print(largeTable.tail())\n    return largeTable",
      "execution_count": 11,
      "outputs": []
    },
    {
      "metadata": {
        "trusted": true,
        "scrolled": true
      },
      "cell_type": "code",
      "source": "country_etf = bundleStockPrices(['JPXN','EWZ','EWI','EWY'],200)",
      "execution_count": 13,
      "outputs": [
        {
          "output_type": "stream",
          "text": "Any null data: False\n               JPXN    EWZ    EWI    EWY\n2019-09-30  61.1200  42.13  27.57  56.34\n2019-10-01  60.6445  41.68  27.29  56.04\n2019-10-02  59.9415  40.78  26.64  55.02\n2019-10-03  60.2398  41.20  26.82  55.74\n2019-10-04  60.9200  42.11  26.95  56.12\n...\n             JPXN    EWZ    EWI    EWY\n2020-07-08  59.69  30.69  25.10  59.18\n2020-07-09  59.35  30.46  24.41  58.82\n2020-07-10  60.08  30.79  24.87  58.43\n2020-07-13  59.84  30.00  24.61  58.52\n2020-07-14  60.34  30.77  25.12  59.05\n",
          "name": "stdout"
        }
      ]
    },
    {
      "metadata": {
        "trusted": true
      },
      "cell_type": "code",
      "source": "country_stocks_covid = pd.concat([country_etf, casesDF], axis = 1, join ='inner')\nprint(country_stocks_covid)",
      "execution_count": 38,
      "outputs": [
        {
          "output_type": "stream",
          "text": "               JPXN    EWZ    EWI    EWY  japanCases  brazilCases  italyCases  \\\n2020-01-02  64.4500  48.41  29.90  62.17           0            0           0   \n2020-01-03  63.8159  47.99  29.49  60.91          19            0         342   \n2020-01-06  63.9800  47.25  29.61  60.69          50        28936         318   \n2020-01-07  64.1400  47.22  29.48  61.34         217        48105         201   \n2020-02-03  62.6100  44.43  28.92  58.58          20            0         466   \n2020-02-04  63.7300  44.72  29.42  60.24         336         1012        4585   \n2020-02-05  64.2035  44.99  29.83  60.80         200         4726        1389   \n2020-02-06  64.5313  44.17  30.13  61.66          30        28633         321   \n2020-02-07  64.0138  43.38  29.85  60.45         130        42223         223   \n2020-02-13  63.3777  43.67  29.94  61.83          10            0           0   \n2020-02-14  62.7200  43.86  29.94  62.09          11            0           0   \n2020-02-18  61.7694  43.32  30.28  61.08           6            0           0   \n2020-02-19  61.8088  43.91  30.43  61.07          10            0           0   \n2020-02-20  61.1449  42.84  30.06  59.21          17            0          17   \n2020-02-21  60.6701  42.46  29.72  58.37          25            0          42   \n2020-02-24  58.7500  40.34  28.12  55.32          13            0          93   \n2020-02-25  58.3903  39.77  27.48  55.29          19            1         131   \n2020-02-26  58.8689  39.20  27.84  55.96          26            0         202   \n2020-02-27  56.8333  37.78  27.37  54.90          18            0         233   \n2020-02-28  56.6100  38.36  27.24  54.96           9            1         240   \n2020-03-02  57.3741  39.39  27.26  56.21           2            0           0   \n2020-03-03  56.5900  38.49  26.71  55.53          35            2         587   \n2020-03-04  57.9133  38.78  27.65  57.58         371         1304        4805   \n2020-03-05  57.0000  36.66  26.66  56.32         168         6794        1221   \n2020-03-06  56.3818  35.10  26.26  55.54          44        30925         177   \n2020-03-13  49.4600  29.10  20.81  49.73          62            0        3497   \n2020-03-16  46.2863  22.38  18.09  41.87          50          121        3526   \n2020-03-17  48.2200  25.30  18.81  44.89          35           51        4207   \n2020-03-18  47.5694  21.39  18.40  40.67          40          249        5322   \n2020-03-19  48.5800  22.20  18.39  39.00          54          172        5986   \n...             ...    ...    ...    ...         ...          ...         ...   \n2020-05-14  55.7600  22.63  20.01  50.86          52        17126         789   \n2020-05-15  55.8738  22.25  19.96  49.90          54        13220         875   \n2020-05-18  57.2907  23.71  21.01  51.91          28        16517         813   \n2020-05-19  56.6545  23.42  20.34  51.95          34        19694         665   \n2020-05-20  57.5400  23.80  20.77  52.59          41        18508         642   \n2020-05-21  56.9275  24.80  20.68  51.99          23        20803         652   \n2020-05-22  56.9948  24.66  20.84  51.23          25        16508         669   \n2020-05-26  58.9752  26.59  21.58  53.00          26        20599         584   \n2020-05-27  59.6829  27.80  21.97  53.02          70        26417         593   \n2020-05-28  60.5295  26.93  22.38  52.62          75        26928         516   \n2020-05-29  59.9400  27.19  22.46  53.56          43        33274         416   \n2020-06-02  61.0671  29.10  23.61  56.28           0            0           1   \n2020-06-03  61.4828  30.39  24.64  58.63          46            0        1247   \n2020-06-04  60.8025  30.33  24.63  57.47         375         1873        3039   \n2020-06-05  61.5300  31.50  25.08  59.97          98         9162        1401   \n2020-06-15  59.5000  29.53  23.91  55.50          45        34918         210   \n2020-06-16  60.6166  29.35  24.22  56.78          46        32188         328   \n2020-06-17  61.0593  29.78  24.09  57.42          58        22765         331   \n2020-06-18  60.8251  29.39  23.96  57.24          70        54771        -148   \n2020-06-19  60.5495  29.70  23.89  56.75          67        34666         264   \n2020-06-22  60.9200  29.66  24.31  57.72          59        39436         113   \n2020-06-23  61.0811  30.53  24.59  57.71          84        42725         577   \n2020-06-24  59.8425  29.04  23.81  57.50          92        39483         296   \n2020-06-25  60.4758  29.66  24.10  57.40         107        46860         255   \n2020-06-26  59.9619  28.20  23.64  57.07          92        38693         175   \n2020-06-29  59.9100  28.95  24.18  57.20         139        33846         142   \n2020-06-30  59.4200  28.76  24.08  57.13         223        46712         182   \n2020-07-02  59.4900  29.46  24.58  58.39           1            0           0   \n2020-07-06  60.3100  30.40  24.96  60.13          21        15654         280   \n2020-07-07  59.7900  29.73  24.74  58.81         206        44571         193   \n\n            skCases  \n2020-01-02        3  \n2020-01-03      599  \n2020-01-06       49  \n2020-01-07       63  \n2020-02-03      851  \n2020-02-04       86  \n2020-02-05        8  \n2020-02-06       39  \n2020-02-07       63  \n2020-02-13        0  \n2020-02-14        0  \n2020-02-18        0  \n2020-02-19       73  \n2020-02-20      100  \n2020-02-21      229  \n2020-02-24      144  \n2020-02-25      284  \n2020-02-26      505  \n2020-02-27      571  \n2020-02-28      813  \n2020-03-02        1  \n2020-03-03      435  \n2020-03-04       94  \n2020-03-05        3  \n2020-03-06       39  \n2020-03-13      107  \n2020-03-16       84  \n2020-03-17       93  \n2020-03-18      152  \n2020-03-19       87  \n...             ...  \n2020-05-14       19  \n2020-05-15       13  \n2020-05-18       32  \n2020-05-19       12  \n2020-05-20       20  \n2020-05-21       23  \n2020-05-22       25  \n2020-05-26       79  \n2020-05-27       58  \n2020-05-28       39  \n2020-05-29       27  \n2020-06-02        1  \n2020-06-03      448  \n2020-06-04       47  \n2020-06-05       12  \n2020-06-15       43  \n2020-06-16       59  \n2020-06-17       49  \n2020-06-18       67  \n2020-06-19       48  \n2020-06-22       51  \n2020-06-23       28  \n2020-06-24       39  \n2020-06-25       51  \n2020-06-26       62  \n2020-06-29       50  \n2020-06-30       54  \n2020-07-02        0  \n2020-07-06       38  \n2020-07-07       49  \n\n[91 rows x 8 columns]\n",
          "name": "stdout"
        }
      ]
    }
  ],
  "metadata": {
    "kernelspec": {
      "name": "python36",
      "display_name": "Python 3.6",
      "language": "python"
    },
    "language_info": {
      "mimetype": "text/x-python",
      "nbconvert_exporter": "python",
      "name": "python",
      "pygments_lexer": "ipython3",
      "version": "3.6.6",
      "file_extension": ".py",
      "codemirror_mode": {
        "version": 3,
        "name": "ipython"
      }
    }
  },
  "nbformat": 4,
  "nbformat_minor": 2
}