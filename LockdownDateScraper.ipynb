{
  "cells": [
    {
      "metadata": {
        "trusted": true
      },
      "cell_type": "code",
      "source": "#Webscrape wikipedia for lockdown start dates and end dates\nimport urllib.request\nfrom bs4 import BeautifulSoup",
      "execution_count": 1,
      "outputs": []
    },
    {
      "metadata": {
        "trusted": true
      },
      "cell_type": "code",
      "source": "#URL for the wikipedia page\nurl = \"https://en.wikipedia.org/wiki/COVID-19_pandemic_lockdowns\"\n#Open the webpage\npage = urllib.request.urlopen(url)\n#Read and extract the HTML from the page\nsoup = BeautifulSoup(page, \"lxml\")",
      "execution_count": 97,
      "outputs": []
    },
    {
      "metadata": {
        "trusted": true
      },
      "cell_type": "code",
      "source": "#Display title of the webpage\nsoup.title.string",
      "execution_count": 100,
      "outputs": [
        {
          "output_type": "execute_result",
          "execution_count": 100,
          "data": {
            "text/plain": "'COVID-19 pandemic lockdowns - Wikipedia'"
          },
          "metadata": {}
        }
      ]
    },
    {
      "metadata": {
        "trusted": true
      },
      "cell_type": "code",
      "source": "#Find the correct table with all the details needed\nright_table = soup.find(\"table\", class_=\"wikitable sortable mw-collapsible\")",
      "execution_count": 279,
      "outputs": []
    },
    {
      "metadata": {
        "trusted": true
      },
      "cell_type": "code",
      "source": "#Go through the HTML to find the <tr> tags which contain the country name, start date and end date of lockdowns\ncountries = []\nstartDate=[]\nendDate=[]\n#Extract information required from the tags\nfor row in right_table.findAll('tr'):\n    #Information stored in <td> tags\n    #Find all <td> tags\n    cells=row.findAll('td')\n    #3 <td> tags per <tr> tag\n    if len(cells)==3:\n        getCountry = cells[0].findAll('a')\n        countries.append(getCountry[0].contents[0])\n        startDate.append(cells[1].find(text=True))        \n        endDate.append(cells[2].find(text=True))",
      "execution_count": 297,
      "outputs": []
    },
    {
      "metadata": {
        "trusted": true
      },
      "cell_type": "code",
      "source": "import pandas as pd\n#Create dataframe with country name, start date, end date\ndf=pd.DataFrame(countries,columns=['Country'])\ndf['Start Date']=startDate\ndf['End Date']=endDate\n#Display 30 rows only\npd.set_option('display.max_rows',50)\ndf",
      "execution_count": 303,
      "outputs": [
        {
          "output_type": "execute_result",
          "execution_count": 303,
          "data": {
            "text/html": "<div>\n<style scoped>\n    .dataframe tbody tr th:only-of-type {\n        vertical-align: middle;\n    }\n\n    .dataframe tbody tr th {\n        vertical-align: top;\n    }\n\n    .dataframe thead th {\n        text-align: right;\n    }\n</style>\n<table border=\"1\" class=\"dataframe\">\n  <thead>\n    <tr style=\"text-align: right;\">\n      <th></th>\n      <th>Country</th>\n      <th>Start Date</th>\n      <th>End Date</th>\n    </tr>\n  </thead>\n  <tbody>\n    <tr>\n      <th>0</th>\n      <td>Armenia</td>\n      <td>2020-03-24</td>\n      <td>2020-05-04</td>\n    </tr>\n    <tr>\n      <th>1</th>\n      <td>Australia</td>\n      <td>2020-03-23</td>\n      <td></td>\n    </tr>\n    <tr>\n      <th>2</th>\n      <td>Austria</td>\n      <td>2020-03-16</td>\n      <td>2020-04-13</td>\n    </tr>\n    <tr>\n      <th>3</th>\n      <td>Azerbaijan</td>\n      <td>2020-03-31</td>\n      <td>2020-04-20</td>\n    </tr>\n    <tr>\n      <th>4</th>\n      <td>Bangladesh</td>\n      <td>2020-03-26</td>\n      <td>2020-05-16</td>\n    </tr>\n    <tr>\n      <th>5</th>\n      <td>Barbados</td>\n      <td>2020-03-28</td>\n      <td>2020-05-03</td>\n    </tr>\n    <tr>\n      <th>6</th>\n      <td>Belgium</td>\n      <td>2020-03-18</td>\n      <td>2020-05-04</td>\n    </tr>\n    <tr>\n      <th>7</th>\n      <td>Bermuda</td>\n      <td>2020-04-04</td>\n      <td>2020-05-02</td>\n    </tr>\n    <tr>\n      <th>8</th>\n      <td>Bolivia</td>\n      <td>2020-03-22</td>\n      <td>2020-07-31</td>\n    </tr>\n    <tr>\n      <th>9</th>\n      <td>Botswana</td>\n      <td>2020-04-02</td>\n      <td>2020-04-30</td>\n    </tr>\n    <tr>\n      <th>10</th>\n      <td>São Paulo</td>\n      <td>2020-03-24</td>\n      <td>2020-05-10</td>\n    </tr>\n    <tr>\n      <th>11</th>\n      <td>Republic of the Congo</td>\n      <td>2020-03-31</td>\n      <td>2020-04-20</td>\n    </tr>\n    <tr>\n      <th>12</th>\n      <td>Costa Rica</td>\n      <td>2020-03-23</td>\n      <td></td>\n    </tr>\n    <tr>\n      <th>13</th>\n      <td>Croatia</td>\n      <td>2020-03-18</td>\n      <td>2020-04-19</td>\n    </tr>\n    <tr>\n      <th>14</th>\n      <td>Czech Republic</td>\n      <td>2020-03-16</td>\n      <td>2020-04-12</td>\n    </tr>\n    <tr>\n      <th>15</th>\n      <td>Ecuador</td>\n      <td>2020-03-16</td>\n      <td>2020-03-31</td>\n    </tr>\n    <tr>\n      <th>16</th>\n      <td>El Salvador</td>\n      <td>2020-03-12</td>\n      <td>2020-04-02</td>\n    </tr>\n    <tr>\n      <th>17</th>\n      <td>Eritrea</td>\n      <td>2020-04-02</td>\n      <td>2020-04-23</td>\n    </tr>\n    <tr>\n      <th>18</th>\n      <td>Suva</td>\n      <td>2020-04-03</td>\n      <td>2020-04-17</td>\n    </tr>\n    <tr>\n      <th>19</th>\n      <td>Georgia</td>\n      <td>2020-03-31</td>\n      <td>2020-04-21</td>\n    </tr>\n    <tr>\n      <th>20</th>\n      <td>Germany</td>\n      <td>2020-03-23</td>\n      <td>2020-04-20</td>\n    </tr>\n    <tr>\n      <th>21</th>\n      <td>Guernsey</td>\n      <td>2020-03-25</td>\n      <td></td>\n    </tr>\n    <tr>\n      <th>22</th>\n      <td>Honduras</td>\n      <td>2020-03-20</td>\n      <td>2020-05-17</td>\n    </tr>\n    <tr>\n      <th>23</th>\n      <td>Hungary</td>\n      <td>2020-03-28</td>\n      <td>2020-04-10</td>\n    </tr>\n    <tr>\n      <th>24</th>\n      <td>India</td>\n      <td>2020-03-25</td>\n      <td>2020-06-30</td>\n    </tr>\n    <tr>\n      <th>...</th>\n      <td>...</td>\n      <td>...</td>\n      <td>...</td>\n    </tr>\n    <tr>\n      <th>38</th>\n      <td>Papua New Guinea</td>\n      <td>2020-03-24</td>\n      <td>2020-04-07</td>\n    </tr>\n    <tr>\n      <th>39</th>\n      <td>Paraguay</td>\n      <td>2020-03-20</td>\n      <td>2020-05-03</td>\n    </tr>\n    <tr>\n      <th>40</th>\n      <td>Peru</td>\n      <td>2020-03-16</td>\n      <td>2020-06-30</td>\n    </tr>\n    <tr>\n      <th>41</th>\n      <td>Portugal</td>\n      <td>2020-03-19</td>\n      <td>2020-04-02</td>\n    </tr>\n    <tr>\n      <th>42</th>\n      <td>Rwanda</td>\n      <td>2020-03-21</td>\n      <td>2020-04-19</td>\n    </tr>\n    <tr>\n      <th>43</th>\n      <td>Samoa</td>\n      <td>2020-03-26</td>\n      <td>2020-04-08</td>\n    </tr>\n    <tr>\n      <th>44</th>\n      <td>San Marino</td>\n      <td>2020-03-14</td>\n      <td>2020-05-05</td>\n    </tr>\n    <tr>\n      <th>45</th>\n      <td>Qatif</td>\n      <td>2020-03-09</td>\n      <td>Area</td>\n    </tr>\n    <tr>\n      <th>46</th>\n      <td>Riyadh</td>\n      <td>2020-03-26</td>\n      <td>City</td>\n    </tr>\n    <tr>\n      <th>47</th>\n      <td>Singapore</td>\n      <td>2020-04-07</td>\n      <td>2020-06-01</td>\n    </tr>\n    <tr>\n      <th>48</th>\n      <td>South Africa</td>\n      <td>2020-03-26</td>\n      <td>2020-04-30</td>\n    </tr>\n    <tr>\n      <th>49</th>\n      <td>Spain</td>\n      <td>2020-03-14</td>\n      <td>2020-05-09</td>\n    </tr>\n    <tr>\n      <th>50</th>\n      <td>Sri Lanka</td>\n      <td>2020-03-18</td>\n      <td>2020-06-21</td>\n    </tr>\n    <tr>\n      <th>51</th>\n      <td>Thailand</td>\n      <td>2020-03-25</td>\n      <td>2020-05-31</td>\n    </tr>\n    <tr>\n      <th>52</th>\n      <td>Trinidad and Tobago</td>\n      <td>2020-03-17</td>\n      <td>2020-03-31</td>\n    </tr>\n    <tr>\n      <th>53</th>\n      <td>Tunisia</td>\n      <td>2020-03-22</td>\n      <td>2020-04-19</td>\n    </tr>\n    <tr>\n      <th>54</th>\n      <td>United Arab Emirates</td>\n      <td>2020-03-26</td>\n      <td>2020-04-17</td>\n    </tr>\n    <tr>\n      <th>55</th>\n      <td>United Kingdom</td>\n      <td>2020-03-23</td>\n      <td></td>\n    </tr>\n    <tr>\n      <th>56</th>\n      <td>Illinois</td>\n      <td>2020-03-21</td>\n      <td>2020-05-30</td>\n    </tr>\n    <tr>\n      <th>57</th>\n      <td>Michigan</td>\n      <td>2020-03-24</td>\n      <td>2020-04-13</td>\n    </tr>\n    <tr>\n      <th>58</th>\n      <td>New York</td>\n      <td>2020-03-22</td>\n      <td>2020-06-13</td>\n    </tr>\n    <tr>\n      <th>59</th>\n      <td>Oregon</td>\n      <td>2020-03-24</td>\n      <td></td>\n    </tr>\n    <tr>\n      <th>60</th>\n      <td>Wisconsin</td>\n      <td>2020-03-24</td>\n      <td></td>\n    </tr>\n    <tr>\n      <th>61</th>\n      <td>Vietnam</td>\n      <td>2020-04-01</td>\n      <td>2020-04-22</td>\n    </tr>\n    <tr>\n      <th>62</th>\n      <td>Zimbabwe</td>\n      <td>2020-03-30</td>\n      <td>2020-05-02</td>\n    </tr>\n  </tbody>\n</table>\n<p>63 rows × 3 columns</p>\n</div>",
            "text/plain": "                  Country  Start Date     End Date\n0                 Armenia  2020-03-24   2020-05-04\n1               Australia  2020-03-23            \n\n2                 Austria  2020-03-16   2020-04-13\n3              Azerbaijan  2020-03-31   2020-04-20\n4              Bangladesh  2020-03-26   2020-05-16\n5                Barbados  2020-03-28   2020-05-03\n6                 Belgium  2020-03-18  2020-05-04 \n7                 Bermuda  2020-04-04   2020-05-02\n8                 Bolivia  2020-03-22   2020-07-31\n9                Botswana  2020-04-02   2020-04-30\n10              São Paulo  2020-03-24   2020-05-10\n11  Republic of the Congo  2020-03-31   2020-04-20\n12             Costa Rica  2020-03-23            \n\n13                Croatia  2020-03-18   2020-04-19\n14         Czech Republic  2020-03-16   2020-04-12\n15                Ecuador  2020-03-16   2020-03-31\n16            El Salvador  2020-03-12   2020-04-02\n17                Eritrea  2020-04-02   2020-04-23\n18                   Suva  2020-04-03   2020-04-17\n19                Georgia  2020-03-31   2020-04-21\n20                Germany  2020-03-23   2020-04-20\n21               Guernsey  2020-03-25            \n\n22               Honduras  2020-03-20   2020-05-17\n23                Hungary  2020-03-28   2020-04-10\n24                  India  2020-03-25   2020-06-30\n..                    ...         ...          ...\n38       Papua New Guinea  2020-03-24   2020-04-07\n39               Paraguay  2020-03-20   2020-05-03\n40                   Peru  2020-03-16   2020-06-30\n41               Portugal  2020-03-19   2020-04-02\n42                 Rwanda  2020-03-21   2020-04-19\n43                  Samoa  2020-03-26   2020-04-08\n44             San Marino  2020-03-14   2020-05-05\n45                  Qatif  2020-03-09        Area\n\n46                 Riyadh  2020-03-26        City\n\n47              Singapore  2020-04-07   2020-06-01\n48           South Africa  2020-03-26   2020-04-30\n49                  Spain  2020-03-14   2020-05-09\n50              Sri Lanka  2020-03-18   2020-06-21\n51               Thailand  2020-03-25   2020-05-31\n52    Trinidad and Tobago  2020-03-17   2020-03-31\n53                Tunisia  2020-03-22   2020-04-19\n54   United Arab Emirates  2020-03-26   2020-04-17\n55         United Kingdom  2020-03-23            \n\n56               Illinois  2020-03-21   2020-05-30\n57               Michigan  2020-03-24   2020-04-13\n58               New York  2020-03-22   2020-06-13\n59                 Oregon  2020-03-24            \n\n60              Wisconsin  2020-03-24            \n\n61                Vietnam  2020-04-01   2020-04-22\n62               Zimbabwe  2020-03-30   2020-05-02\n\n[63 rows x 3 columns]"
          },
          "metadata": {}
        }
      ]
    },
    {
      "metadata": {
        "trusted": true
      },
      "cell_type": "code",
      "source": "#Checking to see if there are any null values to clean\ndf.isnull().values.any()",
      "execution_count": 245,
      "outputs": [
        {
          "output_type": "execute_result",
          "execution_count": 245,
          "data": {
            "text/plain": "False"
          },
          "metadata": {}
        }
      ]
    },
    {
      "metadata": {
        "trusted": true
      },
      "cell_type": "code",
      "source": "#Replace the anomalous data which contains the strings \"Area\" and \"City\". This has only occurred in the Saudi Arabia data.\ndf.at[45, 'End Date'] = \"\"\ndf.at[46, 'End Date'] = \"\"\ndf",
      "execution_count": 299,
      "outputs": [
        {
          "output_type": "execute_result",
          "execution_count": 299,
          "data": {
            "text/html": "<div>\n<style scoped>\n    .dataframe tbody tr th:only-of-type {\n        vertical-align: middle;\n    }\n\n    .dataframe tbody tr th {\n        vertical-align: top;\n    }\n\n    .dataframe thead th {\n        text-align: right;\n    }\n</style>\n<table border=\"1\" class=\"dataframe\">\n  <thead>\n    <tr style=\"text-align: right;\">\n      <th></th>\n      <th>Country</th>\n      <th>Start Date</th>\n      <th>End Date</th>\n    </tr>\n  </thead>\n  <tbody>\n    <tr>\n      <th>0</th>\n      <td>Armenia</td>\n      <td>2020-03-24</td>\n      <td>2020-05-04</td>\n    </tr>\n    <tr>\n      <th>1</th>\n      <td>Australia</td>\n      <td>2020-03-23</td>\n      <td></td>\n    </tr>\n    <tr>\n      <th>2</th>\n      <td>Austria</td>\n      <td>2020-03-16</td>\n      <td>2020-04-13</td>\n    </tr>\n    <tr>\n      <th>3</th>\n      <td>Azerbaijan</td>\n      <td>2020-03-31</td>\n      <td>2020-04-20</td>\n    </tr>\n    <tr>\n      <th>4</th>\n      <td>Bangladesh</td>\n      <td>2020-03-26</td>\n      <td>2020-05-16</td>\n    </tr>\n    <tr>\n      <th>5</th>\n      <td>Barbados</td>\n      <td>2020-03-28</td>\n      <td>2020-05-03</td>\n    </tr>\n    <tr>\n      <th>6</th>\n      <td>Belgium</td>\n      <td>2020-03-18</td>\n      <td>2020-05-04</td>\n    </tr>\n    <tr>\n      <th>7</th>\n      <td>Bermuda</td>\n      <td>2020-04-04</td>\n      <td>2020-05-02</td>\n    </tr>\n    <tr>\n      <th>8</th>\n      <td>Bolivia</td>\n      <td>2020-03-22</td>\n      <td>2020-07-31</td>\n    </tr>\n    <tr>\n      <th>9</th>\n      <td>Botswana</td>\n      <td>2020-04-02</td>\n      <td>2020-04-30</td>\n    </tr>\n    <tr>\n      <th>10</th>\n      <td>São Paulo</td>\n      <td>2020-03-24</td>\n      <td>2020-05-10</td>\n    </tr>\n    <tr>\n      <th>11</th>\n      <td>Republic of the Congo</td>\n      <td>2020-03-31</td>\n      <td>2020-04-20</td>\n    </tr>\n    <tr>\n      <th>12</th>\n      <td>Costa Rica</td>\n      <td>2020-03-23</td>\n      <td></td>\n    </tr>\n    <tr>\n      <th>13</th>\n      <td>Croatia</td>\n      <td>2020-03-18</td>\n      <td>2020-04-19</td>\n    </tr>\n    <tr>\n      <th>14</th>\n      <td>Czech Republic</td>\n      <td>2020-03-16</td>\n      <td>2020-04-12</td>\n    </tr>\n    <tr>\n      <th>...</th>\n      <td>...</td>\n      <td>...</td>\n      <td>...</td>\n    </tr>\n    <tr>\n      <th>48</th>\n      <td>South Africa</td>\n      <td>2020-03-26</td>\n      <td>2020-04-30</td>\n    </tr>\n    <tr>\n      <th>49</th>\n      <td>Spain</td>\n      <td>2020-03-14</td>\n      <td>2020-05-09</td>\n    </tr>\n    <tr>\n      <th>50</th>\n      <td>Sri Lanka</td>\n      <td>2020-03-18</td>\n      <td>2020-06-21</td>\n    </tr>\n    <tr>\n      <th>51</th>\n      <td>Thailand</td>\n      <td>2020-03-25</td>\n      <td>2020-05-31</td>\n    </tr>\n    <tr>\n      <th>52</th>\n      <td>Trinidad and Tobago</td>\n      <td>2020-03-17</td>\n      <td>2020-03-31</td>\n    </tr>\n    <tr>\n      <th>53</th>\n      <td>Tunisia</td>\n      <td>2020-03-22</td>\n      <td>2020-04-19</td>\n    </tr>\n    <tr>\n      <th>54</th>\n      <td>United Arab Emirates</td>\n      <td>2020-03-26</td>\n      <td>2020-04-17</td>\n    </tr>\n    <tr>\n      <th>55</th>\n      <td>United Kingdom</td>\n      <td>2020-03-23</td>\n      <td></td>\n    </tr>\n    <tr>\n      <th>56</th>\n      <td>Illinois</td>\n      <td>2020-03-21</td>\n      <td>2020-05-30</td>\n    </tr>\n    <tr>\n      <th>57</th>\n      <td>Michigan</td>\n      <td>2020-03-24</td>\n      <td>2020-04-13</td>\n    </tr>\n    <tr>\n      <th>58</th>\n      <td>New York</td>\n      <td>2020-03-22</td>\n      <td>2020-06-13</td>\n    </tr>\n    <tr>\n      <th>59</th>\n      <td>Oregon</td>\n      <td>2020-03-24</td>\n      <td></td>\n    </tr>\n    <tr>\n      <th>60</th>\n      <td>Wisconsin</td>\n      <td>2020-03-24</td>\n      <td></td>\n    </tr>\n    <tr>\n      <th>61</th>\n      <td>Vietnam</td>\n      <td>2020-04-01</td>\n      <td>2020-04-22</td>\n    </tr>\n    <tr>\n      <th>62</th>\n      <td>Zimbabwe</td>\n      <td>2020-03-30</td>\n      <td>2020-05-02</td>\n    </tr>\n  </tbody>\n</table>\n<p>63 rows × 3 columns</p>\n</div>",
            "text/plain": "                  Country  Start Date     End Date\n0                 Armenia  2020-03-24   2020-05-04\n1               Australia  2020-03-23            \n\n2                 Austria  2020-03-16   2020-04-13\n3              Azerbaijan  2020-03-31   2020-04-20\n4              Bangladesh  2020-03-26   2020-05-16\n5                Barbados  2020-03-28   2020-05-03\n6                 Belgium  2020-03-18  2020-05-04 \n7                 Bermuda  2020-04-04   2020-05-02\n8                 Bolivia  2020-03-22   2020-07-31\n9                Botswana  2020-04-02   2020-04-30\n10              São Paulo  2020-03-24   2020-05-10\n11  Republic of the Congo  2020-03-31   2020-04-20\n12             Costa Rica  2020-03-23            \n\n13                Croatia  2020-03-18   2020-04-19\n14         Czech Republic  2020-03-16   2020-04-12\n..                    ...         ...          ...\n48           South Africa  2020-03-26   2020-04-30\n49                  Spain  2020-03-14   2020-05-09\n50              Sri Lanka  2020-03-18   2020-06-21\n51               Thailand  2020-03-25   2020-05-31\n52    Trinidad and Tobago  2020-03-17   2020-03-31\n53                Tunisia  2020-03-22   2020-04-19\n54   United Arab Emirates  2020-03-26   2020-04-17\n55         United Kingdom  2020-03-23            \n\n56               Illinois  2020-03-21   2020-05-30\n57               Michigan  2020-03-24   2020-04-13\n58               New York  2020-03-22   2020-06-13\n59                 Oregon  2020-03-24            \n\n60              Wisconsin  2020-03-24            \n\n61                Vietnam  2020-04-01   2020-04-22\n62               Zimbabwe  2020-03-30   2020-05-02\n\n[63 rows x 3 columns]"
          },
          "metadata": {}
        }
      ]
    },
    {
      "metadata": {
        "trusted": true
      },
      "cell_type": "code",
      "source": "#Output the number of countries announcing lockdown in March\nprint(\"Number of countries in lockdown beginning March: \" + str(len(df.loc[df['Start Date'].str.contains('2020-03')])) + \"/\" + str(len(df['Start Date'])))",
      "execution_count": 300,
      "outputs": [
        {
          "output_type": "stream",
          "text": "Number of countries in lockdown beginning March: 57/63\n",
          "name": "stdout"
        }
      ]
    },
    {
      "metadata": {
        "trusted": true
      },
      "cell_type": "code",
      "source": "#Output the number of countries announcing the easing of lockdown by June\neaseApril = len(df.loc[df['End Date'].str.contains('2020-04')])\neaseMay = len(df.loc[df['End Date'].str.contains('2020-05')])\neaseJune = len(df.loc[df['End Date'].str.contains('2020-06')])\neaseJuly = len(df.loc[df['End Date'].str.contains('2020-07')])\nprint(\"Number of countries out of lockdown by April: \" + str(easeApril) + \"/\" + str(len(df['End Date'])))\nprint(\"Number of countries out of lockdown by May: \" + str((easeApril+easeMay)) + \"/\" + str(len(df['End Date'])))\nprint(\"Number of countries out of lockdown by June: \" + str((easeApril+easeMay+easeJune)) + \"/\" + str(len(df['End Date'])))\nprint(\"Number of countries out of lockdown by July: \" + str((easeApril+easeMay+easeJune+easeJuly)) + \"/\" + str(len(df['End Date'])))",
      "execution_count": 313,
      "outputs": [
        {
          "output_type": "stream",
          "text": "Number of countries out of lockdown by April: 23/63\nNumber of countries out of lockdown by May: 40/63\nNumber of countries out of lockdown by June: 48/63\nNumber of countries out of lockdown by July: 49/63\n",
          "name": "stdout"
        }
      ]
    }
  ],
  "metadata": {
    "kernelspec": {
      "name": "python36",
      "display_name": "Python 3.6",
      "language": "python"
    },
    "language_info": {
      "mimetype": "text/x-python",
      "nbconvert_exporter": "python",
      "name": "python",
      "pygments_lexer": "ipython3",
      "version": "3.6.6",
      "file_extension": ".py",
      "codemirror_mode": {
        "version": 3,
        "name": "ipython"
      }
    }
  },
  "nbformat": 4,
  "nbformat_minor": 2
}