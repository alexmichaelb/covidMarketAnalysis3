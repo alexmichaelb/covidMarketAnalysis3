{
  "cells": [
    {
      "metadata": {},
      "cell_type": "markdown",
      "source": "# Using COVID19API and Alpha Vantage Data to create a market analysis"
    },
    {
      "metadata": {
        "trusted": true
      },
      "cell_type": "code",
      "source": "#libraries used\n\nimport requests\nimport pandas as pd\nimport datetime",
      "execution_count": 47,
      "outputs": []
    },
    {
      "metadata": {
        "trusted": true
      },
      "cell_type": "code",
      "source": "##api link for get use\n##https://documenter.getpostman.com/view/10808728/SzS8rjbc?version=latest\n\n##api link for country codename\n##https://documenter.getpostman.com/view/10808728/SzS8rjbc?version=latest#7934d316-f751-4914-9909-39f1901caeb8\n\n##function for pulling new covid cases from the API\n\ndef newCasesPerDayFunc(country):\n#setting variables for requests\n    newCasesPerDay = []\n    #country = \"japan\" ##doesn't work for united-states, united-kingdom,\n    url = \"https://api.covid19api.com/country/\"+country+\"/status/confirmed\"\n\n    fromdate = \"2020-01-01T00:00:00Z\"\n    todate = \"2020-07-13T00:00:00Z\"\n    payload = {}\n    headers= {}\n    params = {\"from\":fromdate, \"to\":todate}\n\n    #response and json form of response\n    response = requests.request(\"GET\", url, headers=headers, data = payload, params=params)\n    dataParse = response.json()\n\n    def dailyCasesChange(tdayCases, ydayCases):\n        dailyChange = tdayCases - ydayCases\n        return dailyChange\n\n    #loop to find data we want\n    listLength = len(dataParse)\n    for x in range(0, listLength):\n        \n        #if statement: if not day 1 do the covid cases change calculation\n        if x > 0:\n            dailyCountryProfile = dataParse[x]\n            todaysCases = dailyCountryProfile['Cases']\n\n            ydayCountryProfile = dataParse[x-1]\n            ydayCases=ydayCountryProfile['Cases']\n\n            newCasesToday = dailyCasesChange(todaysCases, ydayCases)\n            newCasesPerDay.append(newCasesToday)\n\n    return(newCasesPerDay)",
      "execution_count": 48,
      "outputs": []
    },
    {
      "metadata": {
        "trusted": true
      },
      "cell_type": "code",
      "source": "startDate = '2020-02-01' #variable for start date of covid cases analysis\n\n#list of all countries daily case data\njapanNewCases = newCasesPerDayFunc(\"japan\")\nbrazilNewCases = newCasesPerDayFunc(\"brazil\")\nitalyNewCases = newCasesPerDayFunc(\"italy\")\n#usaNewCases = newCasesPerDayFunc(\"\")\nskNewCases = newCasesPerDayFunc(\"south-korea\")\n\n##Generates a list of all dates\ndatelist = pd.date_range(startDate, periods=len(japanNewCases)).tolist()",
      "execution_count": 49,
      "outputs": []
    },
    {
      "metadata": {
        "trusted": true
      },
      "cell_type": "code",
      "source": "newDateList = []\n\n#loop to change the date formats for table\nfor item in datelist:\n    #print(item)\n    #print(type(item))\n    newDateFormat = item.strftime(\"%Y-%m-%d\")\n    newDateItem = datetime.datetime.strptime(newDateFormat, '%Y-%m-%d').strftime('%Y-%m-%d')\n    newDateList.append(newDateItem)\nprint(newDateList)",
      "execution_count": 57,
      "outputs": [
        {
          "output_type": "stream",
          "text": "['2020-02-01', '2020-02-02', '2020-02-03', '2020-02-04', '2020-02-05', '2020-02-06', '2020-02-07', '2020-02-08', '2020-02-09', '2020-02-10', '2020-02-11', '2020-02-12', '2020-02-13', '2020-02-14', '2020-02-15', '2020-02-16', '2020-02-17', '2020-02-18', '2020-02-19', '2020-02-20', '2020-02-21', '2020-02-22', '2020-02-23', '2020-02-24', '2020-02-25', '2020-02-26', '2020-02-27', '2020-02-28', '2020-02-29', '2020-03-01', '2020-03-02', '2020-03-03', '2020-03-04', '2020-03-05', '2020-03-06', '2020-03-07', '2020-03-08', '2020-03-09', '2020-03-10', '2020-03-11', '2020-03-12', '2020-03-13', '2020-03-14', '2020-03-15', '2020-03-16', '2020-03-17', '2020-03-18', '2020-03-19', '2020-03-20', '2020-03-21', '2020-03-22', '2020-03-23', '2020-03-24', '2020-03-25', '2020-03-26', '2020-03-27', '2020-03-28', '2020-03-29', '2020-03-30', '2020-03-31', '2020-04-01', '2020-04-02', '2020-04-03', '2020-04-04', '2020-04-05', '2020-04-06', '2020-04-07', '2020-04-08', '2020-04-09', '2020-04-10', '2020-04-11', '2020-04-12', '2020-04-13', '2020-04-14', '2020-04-15', '2020-04-16', '2020-04-17', '2020-04-18', '2020-04-19', '2020-04-20', '2020-04-21', '2020-04-22', '2020-04-23', '2020-04-24', '2020-04-25', '2020-04-26', '2020-04-27', '2020-04-28', '2020-04-29', '2020-04-30', '2020-05-01', '2020-05-02', '2020-05-03', '2020-05-04', '2020-05-05', '2020-05-06', '2020-05-07', '2020-05-08', '2020-05-09', '2020-05-10', '2020-05-11', '2020-05-12', '2020-05-13', '2020-05-14', '2020-05-15', '2020-05-16', '2020-05-17', '2020-05-18', '2020-05-19', '2020-05-20', '2020-05-21', '2020-05-22', '2020-05-23', '2020-05-24', '2020-05-25', '2020-05-26', '2020-05-27', '2020-05-28', '2020-05-29', '2020-05-30', '2020-05-31', '2020-06-01', '2020-06-02', '2020-06-03', '2020-06-04', '2020-06-05', '2020-06-06', '2020-06-07', '2020-06-08', '2020-06-09', '2020-06-10', '2020-06-11', '2020-06-12', '2020-06-13', '2020-06-14', '2020-06-15', '2020-06-16', '2020-06-17', '2020-06-18', '2020-06-19', '2020-06-20', '2020-06-21', '2020-06-22', '2020-06-23', '2020-06-24', '2020-06-25', '2020-06-26', '2020-06-27', '2020-06-28', '2020-06-29', '2020-06-30', '2020-07-01', '2020-07-02', '2020-07-03', '2020-07-04', '2020-07-05', '2020-07-06', '2020-07-07', '2020-07-08', '2020-07-09', '2020-07-10', '2020-07-11', '2020-07-12', '2020-07-13', '2020-07-14', '2020-07-15', '2020-07-16', '2020-07-17', '2020-07-18', '2020-07-19', '2020-07-20', '2020-07-21', '2020-07-22']\n",
          "name": "stdout"
        }
      ]
    },
    {
      "metadata": {
        "trusted": true
      },
      "cell_type": "code",
      "source": "#Create DF based on a dict of lists\n#\n#\ncovidCasesDict = {'japanCases':japanNewCases,'brazilCases': brazilNewCases,'italyCases':italyNewCases,'skCases':skNewCases}\n\ncasesDF = pd.DataFrame(covidCasesDict, index = pd.to_datetime(newDateList))\nprint(casesDF)\n#casesDF.head()",
      "execution_count": 58,
      "outputs": [
        {
          "output_type": "stream",
          "text": "            japanCases  brazilCases  italyCases  skCases\n2020-02-01           0            0           0        0\n2020-02-02           0            0           0        1\n2020-02-03           0            0           0        0\n2020-02-04           2            0           0        1\n2020-02-05           0            0           0        1\n2020-02-06           3            0           0        0\n2020-02-07           0            0           0        0\n2020-02-08           4            0           0        0\n2020-02-09           4            0           2        7\n2020-02-10           5            0           0        1\n2020-02-11           0            0           0        3\n2020-02-12           0            0           0        0\n2020-02-13           2            0           0        1\n2020-02-14           1            0           0        3\n2020-02-15           0            0           0        4\n2020-02-16           0            0           1        1\n2020-02-17           1            0           0        0\n2020-02-18           0            0           0        1\n2020-02-19           2            0           0        2\n2020-02-20           1            0           0        1\n2020-02-21           1            0           0        0\n2020-02-22           5            0           0        0\n2020-02-23          10            0           0        0\n2020-02-24          11            0           0        0\n2020-02-25           6            0           0        1\n2020-02-26           7            0           0        1\n2020-02-27          12            0           0        1\n2020-02-28           6            0           0        0\n2020-02-29          10            0           0       73\n2020-03-01          17            0          17      100\n...                ...          ...         ...      ...\n2020-06-23          76        17110         338       36\n2020-06-24          70        20647         301       34\n2020-06-25          45        34918         210       43\n2020-06-26          46        32188         328       59\n2020-06-27          58        22765         331       49\n2020-06-28          70        54771        -148       67\n2020-06-29          67        34666         264       48\n2020-06-30          55        15762         224       17\n2020-07-01          40        23129         221       46\n2020-07-02          59        39436         113       51\n2020-07-03          84        42725         577       28\n2020-07-04          92        39483         296       39\n2020-07-05         107        46860         255       51\n2020-07-06          92        38693         175       62\n2020-07-07         112        30476         174       42\n2020-07-08         110        24052         126       43\n2020-07-09         139        33846         142       50\n2020-07-10         223        46712         182       54\n2020-07-11         217        48105         201       63\n2020-07-12         130        42223         223       63\n2020-07-13         276        37923         235       61\n2020-07-14         207        26051         192       46\n2020-07-15         180        20229         208       44\n2020-07-16         207        45305         137       63\n2020-07-17         206        44571         193       49\n2020-07-18         356        42619         214       45\n2020-07-19         427        45048         276       35\n2020-07-20         386        39023         188       44\n2020-07-21         411        24831         234       62\n2020-07-22         284        20286         169       33\n\n[173 rows x 4 columns]\n",
          "name": "stdout"
        }
      ]
    },
    {
      "metadata": {
        "trusted": true
      },
      "cell_type": "code",
      "source": "casesDF.tail()",
      "execution_count": 59,
      "outputs": [
        {
          "output_type": "execute_result",
          "execution_count": 59,
          "data": {
            "text/html": "<div>\n<style scoped>\n    .dataframe tbody tr th:only-of-type {\n        vertical-align: middle;\n    }\n\n    .dataframe tbody tr th {\n        vertical-align: top;\n    }\n\n    .dataframe thead th {\n        text-align: right;\n    }\n</style>\n<table border=\"1\" class=\"dataframe\">\n  <thead>\n    <tr style=\"text-align: right;\">\n      <th></th>\n      <th>japanCases</th>\n      <th>brazilCases</th>\n      <th>italyCases</th>\n      <th>skCases</th>\n    </tr>\n  </thead>\n  <tbody>\n    <tr>\n      <th>2020-07-18</th>\n      <td>356</td>\n      <td>42619</td>\n      <td>214</td>\n      <td>45</td>\n    </tr>\n    <tr>\n      <th>2020-07-19</th>\n      <td>427</td>\n      <td>45048</td>\n      <td>276</td>\n      <td>35</td>\n    </tr>\n    <tr>\n      <th>2020-07-20</th>\n      <td>386</td>\n      <td>39023</td>\n      <td>188</td>\n      <td>44</td>\n    </tr>\n    <tr>\n      <th>2020-07-21</th>\n      <td>411</td>\n      <td>24831</td>\n      <td>234</td>\n      <td>62</td>\n    </tr>\n    <tr>\n      <th>2020-07-22</th>\n      <td>284</td>\n      <td>20286</td>\n      <td>169</td>\n      <td>33</td>\n    </tr>\n  </tbody>\n</table>\n</div>",
            "text/plain": "            japanCases  brazilCases  italyCases  skCases\n2020-07-18         356        42619         214       45\n2020-07-19         427        45048         276       35\n2020-07-20         386        39023         188       44\n2020-07-21         411        24831         234       62\n2020-07-22         284        20286         169       33"
          },
          "metadata": {}
        }
      ]
    },
    {
      "metadata": {
        "trusted": true
      },
      "cell_type": "code",
      "source": "#Used for pulling the data\nimport urllib.request \nimport json\n#Used for formatting the data\nimport pandas as pd\n#Used for data visualisation\nimport matplotlib.pyplot as plt\nfrom matplotlib import style",
      "execution_count": 9,
      "outputs": []
    },
    {
      "metadata": {
        "trusted": true
      },
      "cell_type": "code",
      "source": "#Returns a pandaDF of the closing stock prices in the last x amount of days\ndef getPriceOfStock(companySymbol, numOfDays): \n    url = \"https://www.alphavantage.co/query?function=TIME_SERIES_DAILY&symbol=\"+companySymbol+\"&outputsize=full&apikey=Y11HUWNU7HM58RRL\"\n    json_obj = urllib.request.urlopen(url)\n    #Finds the data from the url\n    data = json.load(json_obj)\n    #Choosing the revelant key from the data dictionary\n    dates = data[\"Time Series (Daily)\"] \n    #Initializing lists to store the data\n    final_prices = [] \n    calendar = []\n    counter = 0\n    #For-loop used to run through every trading day \n    for day in dates: \n        counter += 1\n        #Limits the amount of data using the number of days wanted\n        if counter > numOfDays: \n            break\n        #Gets the stock's price - This will include Open, High, Low, Closed prices\n        prices = dates[day]\n        #Choosing the stock's closed price\n        priceNum = float(prices['4. close']) \n        final_prices.append(priceNum)\n        calendar.append(day)\n    #Dictionary containing the company and it's stock prices \n    final_prices.reverse()\n    calendar.reverse()\n    stockDict = {companySymbol : final_prices} #CHANGE\n    #Formatting the pulled data to a Panda DataFrame\n    df = pd.DataFrame(data = stockDict, index = pd.to_datetime(calendar))\n    return df",
      "execution_count": 10,
      "outputs": []
    },
    {
      "metadata": {
        "trusted": true
      },
      "cell_type": "code",
      "source": "#NOTE: Alpha Vantage only allows 5 API calls a minute, 500 a day -> Can only have an input size of list size 5\n#Function to format (multiple) stocks into a PandaDF and alligns the dates\ndef bundleStockPrices(arrayOfCompanySymbols, numOfDays):\n    largeTable = getPriceOfStock(arrayOfCompanySymbols[0], numOfDays) \n    del arrayOfCompanySymbols[0]\n    for symbol in arrayOfCompanySymbols:\n        smallTable = getPriceOfStock(symbol, numOfDays)\n        #Concatenating the tables together -> will provide the intersection of all the data -> will provide <= 200 day data values\n        #largeTable = pd.concat([largeTable, smallTable.reindex(largeTable.index)], axis = 1)\n        largeTable = pd.concat([largeTable, smallTable], axis = 1, join ='inner')\n    print(\"Any null data: \"+str(largeTable.isnull().values.any()))\n    print(largeTable.head())\n    print(\"...\")\n    print(largeTable.tail())\n    return largeTable",
      "execution_count": 11,
      "outputs": []
    },
    {
      "metadata": {
        "trusted": true,
        "scrolled": true
      },
      "cell_type": "code",
      "source": "country_etf = bundleStockPrices(['JPXN','EWY'],200)\n#'EWZ','EWI'",
      "execution_count": 21,
      "outputs": [
        {
          "output_type": "stream",
          "text": "Any null data: False\n               JPXN    EWY\n2019-09-27  60.7093  55.43\n2019-09-30  61.1200  56.34\n2019-10-01  60.6445  56.04\n2019-10-02  59.9415  55.02\n2019-10-03  60.2398  55.74\n...\n             JPXN    EWY\n2020-07-08  59.69  59.18\n2020-07-09  59.35  58.82\n2020-07-10  60.08  58.43\n2020-07-13  59.84  58.52\n2020-07-14  60.34  59.05\n",
          "name": "stdout"
        }
      ]
    },
    {
      "metadata": {
        "trusted": true
      },
      "cell_type": "code",
      "source": "print(casesDF)\nprint(country_etf)\n\ncovidAndStocks = pd.concat([country_etf, casesDF], axis=1, join='inner')\n#print(covidAndStocks)",
      "execution_count": 62,
      "outputs": [
        {
          "output_type": "stream",
          "text": "            japanCases  brazilCases  italyCases  skCases\n2020-02-01           0            0           0        0\n2020-02-02           0            0           0        1\n2020-02-03           0            0           0        0\n2020-02-04           2            0           0        1\n2020-02-05           0            0           0        1\n2020-02-06           3            0           0        0\n2020-02-07           0            0           0        0\n2020-02-08           4            0           0        0\n2020-02-09           4            0           2        7\n2020-02-10           5            0           0        1\n2020-02-11           0            0           0        3\n2020-02-12           0            0           0        0\n2020-02-13           2            0           0        1\n2020-02-14           1            0           0        3\n2020-02-15           0            0           0        4\n2020-02-16           0            0           1        1\n2020-02-17           1            0           0        0\n2020-02-18           0            0           0        1\n2020-02-19           2            0           0        2\n2020-02-20           1            0           0        1\n2020-02-21           1            0           0        0\n2020-02-22           5            0           0        0\n2020-02-23          10            0           0        0\n2020-02-24          11            0           0        0\n2020-02-25           6            0           0        1\n2020-02-26           7            0           0        1\n2020-02-27          12            0           0        1\n2020-02-28           6            0           0        0\n2020-02-29          10            0           0       73\n2020-03-01          17            0          17      100\n...                ...          ...         ...      ...\n2020-06-23          76        17110         338       36\n2020-06-24          70        20647         301       34\n2020-06-25          45        34918         210       43\n2020-06-26          46        32188         328       59\n2020-06-27          58        22765         331       49\n2020-06-28          70        54771        -148       67\n2020-06-29          67        34666         264       48\n2020-06-30          55        15762         224       17\n2020-07-01          40        23129         221       46\n2020-07-02          59        39436         113       51\n2020-07-03          84        42725         577       28\n2020-07-04          92        39483         296       39\n2020-07-05         107        46860         255       51\n2020-07-06          92        38693         175       62\n2020-07-07         112        30476         174       42\n2020-07-08         110        24052         126       43\n2020-07-09         139        33846         142       50\n2020-07-10         223        46712         182       54\n2020-07-11         217        48105         201       63\n2020-07-12         130        42223         223       63\n2020-07-13         276        37923         235       61\n2020-07-14         207        26051         192       46\n2020-07-15         180        20229         208       44\n2020-07-16         207        45305         137       63\n2020-07-17         206        44571         193       49\n2020-07-18         356        42619         214       45\n2020-07-19         427        45048         276       35\n2020-07-20         386        39023         188       44\n2020-07-21         411        24831         234       62\n2020-07-22         284        20286         169       33\n\n[173 rows x 4 columns]\n               JPXN    EWY\n2019-09-27  60.7093  55.43\n2019-09-30  61.1200  56.34\n2019-10-01  60.6445  56.04\n2019-10-02  59.9415  55.02\n2019-10-03  60.2398  55.74\n2019-10-04  60.9200  56.12\n2019-10-07  60.7059  55.78\n2019-10-08  60.2000  56.04\n2019-10-09  60.7882  56.36\n2019-10-10  60.7260  57.00\n2019-10-11  61.4600  57.82\n2019-10-14  61.2042  57.48\n2019-10-15  62.0568  58.15\n2019-10-16  61.9232  58.15\n2019-10-17  61.6865  58.41\n2019-10-18  61.6635  57.59\n2019-10-21  62.0979  58.62\n2019-10-22  62.1332  59.08\n2019-10-23  62.4689  59.02\n2019-10-24  62.4738  59.05\n2019-10-25  62.4842  59.15\n2019-10-28  62.6427  59.54\n2019-10-29  62.8576  59.30\n2019-10-30  63.0645  59.39\n2019-10-31  63.1100  58.93\n2019-11-01  63.7900  60.09\n2019-11-04  64.1900  60.65\n2019-11-05  64.1900  61.38\n2019-11-06  64.0705  60.76\n2019-11-07  64.4948  61.51\n...             ...    ...\n2020-06-02  61.0671  56.28\n2020-06-03  61.4828  58.63\n2020-06-04  60.8025  57.47\n2020-06-05  61.5300  59.97\n2020-06-08  62.3555  60.23\n2020-06-09  62.1687  59.36\n2020-06-10  62.1450  60.02\n2020-06-11  59.4700  56.72\n2020-06-12  60.5880  57.48\n2020-06-15  59.5000  55.50\n2020-06-16  60.6166  56.78\n2020-06-17  61.0593  57.42\n2020-06-18  60.8251  57.24\n2020-06-19  60.5495  56.75\n2020-06-22  60.9200  57.72\n2020-06-23  61.0811  57.71\n2020-06-24  59.8425  57.50\n2020-06-25  60.4758  57.40\n2020-06-26  59.9619  57.07\n2020-06-29  59.9100  57.20\n2020-06-30  59.4200  57.13\n2020-07-01  59.2100  57.46\n2020-07-02  59.4900  58.39\n2020-07-06  60.3100  60.13\n2020-07-07  59.7900  58.81\n2020-07-08  59.6900  59.18\n2020-07-09  59.3500  58.82\n2020-07-10  60.0800  58.43\n2020-07-13  59.8400  58.52\n2020-07-14  60.3400  59.05\n\n[200 rows x 2 columns]\n",
          "name": "stdout"
        }
      ]
    }
  ],
  "metadata": {
    "kernelspec": {
      "name": "python36",
      "display_name": "Python 3.6",
      "language": "python"
    },
    "language_info": {
      "mimetype": "text/x-python",
      "nbconvert_exporter": "python",
      "name": "python",
      "pygments_lexer": "ipython3",
      "version": "3.6.6",
      "file_extension": ".py",
      "codemirror_mode": {
        "version": 3,
        "name": "ipython"
      }
    }
  },
  "nbformat": 4,
  "nbformat_minor": 2
}